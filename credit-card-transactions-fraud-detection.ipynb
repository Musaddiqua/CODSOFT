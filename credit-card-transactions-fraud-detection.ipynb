{
 "cells": [
  {
   "cell_type": "markdown",
   "id": "c693858b",
   "metadata": {
    "id": "L0lKZBfIeRY3",
    "papermill": {
     "duration": 0.011936,
     "end_time": "2024-09-29T09:32:18.982615",
     "exception": false,
     "start_time": "2024-09-29T09:32:18.970679",
     "status": "completed"
    },
    "tags": []
   },
   "source": [
    "# **Import Libraries**"
   ]
  },
  {
   "cell_type": "code",
   "execution_count": 1,
   "id": "c1ac4665",
   "metadata": {
    "execution": {
     "iopub.execute_input": "2024-09-29T09:32:19.008199Z",
     "iopub.status.busy": "2024-09-29T09:32:19.006415Z",
     "iopub.status.idle": "2024-09-29T09:32:22.678456Z",
     "shell.execute_reply": "2024-09-29T09:32:22.677203Z"
    },
    "id": "b71StV-h2oNg",
    "papermill": {
     "duration": 3.688101,
     "end_time": "2024-09-29T09:32:22.681478",
     "exception": false,
     "start_time": "2024-09-29T09:32:18.993377",
     "status": "completed"
    },
    "tags": []
   },
   "outputs": [],
   "source": [
    "import pandas as pd\n",
    "import numpy as np\n",
    "import matplotlib.pyplot as plt\n",
    "import seaborn as sns\n",
    "from sklearn.model_selection import train_test_split\n",
    "from sklearn.preprocessing import LabelEncoder,StandardScaler\n",
    "from sklearn.ensemble import RandomForestClassifier\n",
    "from sklearn.metrics import accuracy_score,confusion_matrix,f1_score,recall_score,precision_score"
   ]
  },
  {
   "cell_type": "markdown",
   "id": "d636bbdf",
   "metadata": {
    "id": "DEDKM0a4eoIp",
    "papermill": {
     "duration": 0.010032,
     "end_time": "2024-09-29T09:32:22.702210",
     "exception": false,
     "start_time": "2024-09-29T09:32:22.692178",
     "status": "completed"
    },
    "tags": []
   },
   "source": [
    "# **Load and Prepare Data**"
   ]
  },
  {
   "cell_type": "code",
   "execution_count": 2,
   "id": "ad4a3157",
   "metadata": {
    "execution": {
     "iopub.execute_input": "2024-09-29T09:32:22.726599Z",
     "iopub.status.busy": "2024-09-29T09:32:22.725945Z",
     "iopub.status.idle": "2024-09-29T09:32:42.265443Z",
     "shell.execute_reply": "2024-09-29T09:32:42.264111Z"
    },
    "id": "bwqs59Fp72RD",
    "papermill": {
     "duration": 19.555749,
     "end_time": "2024-09-29T09:32:42.268805",
     "exception": false,
     "start_time": "2024-09-29T09:32:22.713056",
     "status": "completed"
    },
    "tags": []
   },
   "outputs": [],
   "source": [
    "data_train=pd.read_csv(\"/kaggle/input/fraud-detection/fraudTrain.csv\")\n",
    "data_test=pd.read_csv(\"/kaggle/input/fraud-detection/fraudTest.csv\")"
   ]
  },
  {
   "cell_type": "code",
   "execution_count": 3,
   "id": "d2dbcf6e",
   "metadata": {
    "execution": {
     "iopub.execute_input": "2024-09-29T09:32:42.292854Z",
     "iopub.status.busy": "2024-09-29T09:32:42.291747Z",
     "iopub.status.idle": "2024-09-29T09:32:42.532124Z",
     "shell.execute_reply": "2024-09-29T09:32:42.530891Z"
    },
    "id": "0oidRrIB2oCV",
    "papermill": {
     "duration": 0.255955,
     "end_time": "2024-09-29T09:32:42.535305",
     "exception": false,
     "start_time": "2024-09-29T09:32:42.279350",
     "status": "completed"
    },
    "tags": []
   },
   "outputs": [],
   "source": [
    "full_data=pd.concat([data_train, data_test])"
   ]
  },
  {
   "cell_type": "code",
   "execution_count": 4,
   "id": "88a0ace9",
   "metadata": {
    "execution": {
     "iopub.execute_input": "2024-09-29T09:32:42.558421Z",
     "iopub.status.busy": "2024-09-29T09:32:42.557827Z",
     "iopub.status.idle": "2024-09-29T09:32:42.608734Z",
     "shell.execute_reply": "2024-09-29T09:32:42.607378Z"
    },
    "id": "m53nw6J52n-w",
    "outputId": "4dee9ff0-a14b-448a-b80a-0d0b93371307",
    "papermill": {
     "duration": 0.066519,
     "end_time": "2024-09-29T09:32:42.612220",
     "exception": false,
     "start_time": "2024-09-29T09:32:42.545701",
     "status": "completed"
    },
    "tags": []
   },
   "outputs": [
    {
     "data": {
      "text/html": [
       "<div>\n",
       "<style scoped>\n",
       "    .dataframe tbody tr th:only-of-type {\n",
       "        vertical-align: middle;\n",
       "    }\n",
       "\n",
       "    .dataframe tbody tr th {\n",
       "        vertical-align: top;\n",
       "    }\n",
       "\n",
       "    .dataframe thead th {\n",
       "        text-align: right;\n",
       "    }\n",
       "</style>\n",
       "<table border=\"1\" class=\"dataframe\">\n",
       "  <thead>\n",
       "    <tr style=\"text-align: right;\">\n",
       "      <th></th>\n",
       "      <th>Unnamed: 0</th>\n",
       "      <th>trans_date_trans_time</th>\n",
       "      <th>cc_num</th>\n",
       "      <th>merchant</th>\n",
       "      <th>category</th>\n",
       "      <th>amt</th>\n",
       "      <th>first</th>\n",
       "      <th>last</th>\n",
       "      <th>gender</th>\n",
       "      <th>street</th>\n",
       "      <th>...</th>\n",
       "      <th>lat</th>\n",
       "      <th>long</th>\n",
       "      <th>city_pop</th>\n",
       "      <th>job</th>\n",
       "      <th>dob</th>\n",
       "      <th>trans_num</th>\n",
       "      <th>unix_time</th>\n",
       "      <th>merch_lat</th>\n",
       "      <th>merch_long</th>\n",
       "      <th>is_fraud</th>\n",
       "    </tr>\n",
       "  </thead>\n",
       "  <tbody>\n",
       "    <tr>\n",
       "      <th>0</th>\n",
       "      <td>0</td>\n",
       "      <td>2019-01-01 00:00:18</td>\n",
       "      <td>2703186189652095</td>\n",
       "      <td>fraud_Rippin, Kub and Mann</td>\n",
       "      <td>misc_net</td>\n",
       "      <td>4.97</td>\n",
       "      <td>Jennifer</td>\n",
       "      <td>Banks</td>\n",
       "      <td>F</td>\n",
       "      <td>561 Perry Cove</td>\n",
       "      <td>...</td>\n",
       "      <td>36.0788</td>\n",
       "      <td>-81.1781</td>\n",
       "      <td>3495</td>\n",
       "      <td>Psychologist, counselling</td>\n",
       "      <td>1988-03-09</td>\n",
       "      <td>0b242abb623afc578575680df30655b9</td>\n",
       "      <td>1325376018</td>\n",
       "      <td>36.011293</td>\n",
       "      <td>-82.048315</td>\n",
       "      <td>0</td>\n",
       "    </tr>\n",
       "    <tr>\n",
       "      <th>1</th>\n",
       "      <td>1</td>\n",
       "      <td>2019-01-01 00:00:44</td>\n",
       "      <td>630423337322</td>\n",
       "      <td>fraud_Heller, Gutmann and Zieme</td>\n",
       "      <td>grocery_pos</td>\n",
       "      <td>107.23</td>\n",
       "      <td>Stephanie</td>\n",
       "      <td>Gill</td>\n",
       "      <td>F</td>\n",
       "      <td>43039 Riley Greens Suite 393</td>\n",
       "      <td>...</td>\n",
       "      <td>48.8878</td>\n",
       "      <td>-118.2105</td>\n",
       "      <td>149</td>\n",
       "      <td>Special educational needs teacher</td>\n",
       "      <td>1978-06-21</td>\n",
       "      <td>1f76529f8574734946361c461b024d99</td>\n",
       "      <td>1325376044</td>\n",
       "      <td>49.159047</td>\n",
       "      <td>-118.186462</td>\n",
       "      <td>0</td>\n",
       "    </tr>\n",
       "    <tr>\n",
       "      <th>2</th>\n",
       "      <td>2</td>\n",
       "      <td>2019-01-01 00:00:51</td>\n",
       "      <td>38859492057661</td>\n",
       "      <td>fraud_Lind-Buckridge</td>\n",
       "      <td>entertainment</td>\n",
       "      <td>220.11</td>\n",
       "      <td>Edward</td>\n",
       "      <td>Sanchez</td>\n",
       "      <td>M</td>\n",
       "      <td>594 White Dale Suite 530</td>\n",
       "      <td>...</td>\n",
       "      <td>42.1808</td>\n",
       "      <td>-112.2620</td>\n",
       "      <td>4154</td>\n",
       "      <td>Nature conservation officer</td>\n",
       "      <td>1962-01-19</td>\n",
       "      <td>a1a22d70485983eac12b5b88dad1cf95</td>\n",
       "      <td>1325376051</td>\n",
       "      <td>43.150704</td>\n",
       "      <td>-112.154481</td>\n",
       "      <td>0</td>\n",
       "    </tr>\n",
       "    <tr>\n",
       "      <th>3</th>\n",
       "      <td>3</td>\n",
       "      <td>2019-01-01 00:01:16</td>\n",
       "      <td>3534093764340240</td>\n",
       "      <td>fraud_Kutch, Hermiston and Farrell</td>\n",
       "      <td>gas_transport</td>\n",
       "      <td>45.00</td>\n",
       "      <td>Jeremy</td>\n",
       "      <td>White</td>\n",
       "      <td>M</td>\n",
       "      <td>9443 Cynthia Court Apt. 038</td>\n",
       "      <td>...</td>\n",
       "      <td>46.2306</td>\n",
       "      <td>-112.1138</td>\n",
       "      <td>1939</td>\n",
       "      <td>Patent attorney</td>\n",
       "      <td>1967-01-12</td>\n",
       "      <td>6b849c168bdad6f867558c3793159a81</td>\n",
       "      <td>1325376076</td>\n",
       "      <td>47.034331</td>\n",
       "      <td>-112.561071</td>\n",
       "      <td>0</td>\n",
       "    </tr>\n",
       "    <tr>\n",
       "      <th>4</th>\n",
       "      <td>4</td>\n",
       "      <td>2019-01-01 00:03:06</td>\n",
       "      <td>375534208663984</td>\n",
       "      <td>fraud_Keeling-Crist</td>\n",
       "      <td>misc_pos</td>\n",
       "      <td>41.96</td>\n",
       "      <td>Tyler</td>\n",
       "      <td>Garcia</td>\n",
       "      <td>M</td>\n",
       "      <td>408 Bradley Rest</td>\n",
       "      <td>...</td>\n",
       "      <td>38.4207</td>\n",
       "      <td>-79.4629</td>\n",
       "      <td>99</td>\n",
       "      <td>Dance movement psychotherapist</td>\n",
       "      <td>1986-03-28</td>\n",
       "      <td>a41d7549acf90789359a9aa5346dcb46</td>\n",
       "      <td>1325376186</td>\n",
       "      <td>38.674999</td>\n",
       "      <td>-78.632459</td>\n",
       "      <td>0</td>\n",
       "    </tr>\n",
       "  </tbody>\n",
       "</table>\n",
       "<p>5 rows × 23 columns</p>\n",
       "</div>"
      ],
      "text/plain": [
       "   Unnamed: 0 trans_date_trans_time            cc_num  \\\n",
       "0           0   2019-01-01 00:00:18  2703186189652095   \n",
       "1           1   2019-01-01 00:00:44      630423337322   \n",
       "2           2   2019-01-01 00:00:51    38859492057661   \n",
       "3           3   2019-01-01 00:01:16  3534093764340240   \n",
       "4           4   2019-01-01 00:03:06   375534208663984   \n",
       "\n",
       "                             merchant       category     amt      first  \\\n",
       "0          fraud_Rippin, Kub and Mann       misc_net    4.97   Jennifer   \n",
       "1     fraud_Heller, Gutmann and Zieme    grocery_pos  107.23  Stephanie   \n",
       "2                fraud_Lind-Buckridge  entertainment  220.11     Edward   \n",
       "3  fraud_Kutch, Hermiston and Farrell  gas_transport   45.00     Jeremy   \n",
       "4                 fraud_Keeling-Crist       misc_pos   41.96      Tyler   \n",
       "\n",
       "      last gender                        street  ...      lat      long  \\\n",
       "0    Banks      F                561 Perry Cove  ...  36.0788  -81.1781   \n",
       "1     Gill      F  43039 Riley Greens Suite 393  ...  48.8878 -118.2105   \n",
       "2  Sanchez      M      594 White Dale Suite 530  ...  42.1808 -112.2620   \n",
       "3    White      M   9443 Cynthia Court Apt. 038  ...  46.2306 -112.1138   \n",
       "4   Garcia      M              408 Bradley Rest  ...  38.4207  -79.4629   \n",
       "\n",
       "   city_pop                                job         dob  \\\n",
       "0      3495          Psychologist, counselling  1988-03-09   \n",
       "1       149  Special educational needs teacher  1978-06-21   \n",
       "2      4154        Nature conservation officer  1962-01-19   \n",
       "3      1939                    Patent attorney  1967-01-12   \n",
       "4        99     Dance movement psychotherapist  1986-03-28   \n",
       "\n",
       "                          trans_num   unix_time  merch_lat  merch_long  \\\n",
       "0  0b242abb623afc578575680df30655b9  1325376018  36.011293  -82.048315   \n",
       "1  1f76529f8574734946361c461b024d99  1325376044  49.159047 -118.186462   \n",
       "2  a1a22d70485983eac12b5b88dad1cf95  1325376051  43.150704 -112.154481   \n",
       "3  6b849c168bdad6f867558c3793159a81  1325376076  47.034331 -112.561071   \n",
       "4  a41d7549acf90789359a9aa5346dcb46  1325376186  38.674999  -78.632459   \n",
       "\n",
       "   is_fraud  \n",
       "0         0  \n",
       "1         0  \n",
       "2         0  \n",
       "3         0  \n",
       "4         0  \n",
       "\n",
       "[5 rows x 23 columns]"
      ]
     },
     "execution_count": 4,
     "metadata": {},
     "output_type": "execute_result"
    }
   ],
   "source": [
    "full_data.head()"
   ]
  },
  {
   "cell_type": "code",
   "execution_count": 5,
   "id": "110050f2",
   "metadata": {
    "execution": {
     "iopub.execute_input": "2024-09-29T09:32:42.637567Z",
     "iopub.status.busy": "2024-09-29T09:32:42.637044Z",
     "iopub.status.idle": "2024-09-29T09:32:42.664132Z",
     "shell.execute_reply": "2024-09-29T09:32:42.662718Z"
    },
    "id": "RFe50iq-6jYL",
    "outputId": "5e2513f4-faa5-4972-dd5e-d2ff569eb44a",
    "papermill": {
     "duration": 0.043606,
     "end_time": "2024-09-29T09:32:42.667334",
     "exception": false,
     "start_time": "2024-09-29T09:32:42.623728",
     "status": "completed"
    },
    "tags": []
   },
   "outputs": [
    {
     "name": "stdout",
     "output_type": "stream",
     "text": [
      "<class 'pandas.core.frame.DataFrame'>\n",
      "Index: 1852394 entries, 0 to 555718\n",
      "Data columns (total 23 columns):\n",
      " #   Column                 Dtype  \n",
      "---  ------                 -----  \n",
      " 0   Unnamed: 0             int64  \n",
      " 1   trans_date_trans_time  object \n",
      " 2   cc_num                 int64  \n",
      " 3   merchant               object \n",
      " 4   category               object \n",
      " 5   amt                    float64\n",
      " 6   first                  object \n",
      " 7   last                   object \n",
      " 8   gender                 object \n",
      " 9   street                 object \n",
      " 10  city                   object \n",
      " 11  state                  object \n",
      " 12  zip                    int64  \n",
      " 13  lat                    float64\n",
      " 14  long                   float64\n",
      " 15  city_pop               int64  \n",
      " 16  job                    object \n",
      " 17  dob                    object \n",
      " 18  trans_num              object \n",
      " 19  unix_time              int64  \n",
      " 20  merch_lat              float64\n",
      " 21  merch_long             float64\n",
      " 22  is_fraud               int64  \n",
      "dtypes: float64(5), int64(6), object(12)\n",
      "memory usage: 339.2+ MB\n"
     ]
    }
   ],
   "source": [
    "full_data.info()"
   ]
  },
  {
   "cell_type": "code",
   "execution_count": 6,
   "id": "3d625d40",
   "metadata": {
    "execution": {
     "iopub.execute_input": "2024-09-29T09:32:42.692113Z",
     "iopub.status.busy": "2024-09-29T09:32:42.691625Z",
     "iopub.status.idle": "2024-09-29T09:32:46.514290Z",
     "shell.execute_reply": "2024-09-29T09:32:46.512883Z"
    },
    "id": "BhkDDuhou4o5",
    "papermill": {
     "duration": 3.838197,
     "end_time": "2024-09-29T09:32:46.517212",
     "exception": false,
     "start_time": "2024-09-29T09:32:42.679015",
     "status": "completed"
    },
    "tags": []
   },
   "outputs": [],
   "source": [
    "full_data=full_data.dropna()"
   ]
  },
  {
   "cell_type": "code",
   "execution_count": 7,
   "id": "272fc19e",
   "metadata": {
    "execution": {
     "iopub.execute_input": "2024-09-29T09:32:46.541308Z",
     "iopub.status.busy": "2024-09-29T09:32:46.540821Z",
     "iopub.status.idle": "2024-09-29T09:32:48.944245Z",
     "shell.execute_reply": "2024-09-29T09:32:48.942957Z"
    },
    "id": "os-P2QGhuagW",
    "outputId": "e5b08640-9606-498f-f8f0-44603937befc",
    "papermill": {
     "duration": 2.418956,
     "end_time": "2024-09-29T09:32:48.947270",
     "exception": false,
     "start_time": "2024-09-29T09:32:46.528314",
     "status": "completed"
    },
    "tags": []
   },
   "outputs": [
    {
     "data": {
      "text/plain": [
       "Unnamed: 0               0\n",
       "trans_date_trans_time    0\n",
       "cc_num                   0\n",
       "merchant                 0\n",
       "category                 0\n",
       "amt                      0\n",
       "first                    0\n",
       "last                     0\n",
       "gender                   0\n",
       "street                   0\n",
       "city                     0\n",
       "state                    0\n",
       "zip                      0\n",
       "lat                      0\n",
       "long                     0\n",
       "city_pop                 0\n",
       "job                      0\n",
       "dob                      0\n",
       "trans_num                0\n",
       "unix_time                0\n",
       "merch_lat                0\n",
       "merch_long               0\n",
       "is_fraud                 0\n",
       "dtype: int64"
      ]
     },
     "execution_count": 7,
     "metadata": {},
     "output_type": "execute_result"
    }
   ],
   "source": [
    "full_data.isnull().sum()"
   ]
  },
  {
   "cell_type": "code",
   "execution_count": 8,
   "id": "32e30644",
   "metadata": {
    "execution": {
     "iopub.execute_input": "2024-09-29T09:32:48.973191Z",
     "iopub.status.busy": "2024-09-29T09:32:48.972700Z",
     "iopub.status.idle": "2024-09-29T09:32:49.244568Z",
     "shell.execute_reply": "2024-09-29T09:32:49.243331Z"
    },
    "id": "sDCyrmi78Mu0",
    "outputId": "34042da3-90aa-4873-8f84-35758ed9f051",
    "papermill": {
     "duration": 0.288341,
     "end_time": "2024-09-29T09:32:49.247418",
     "exception": false,
     "start_time": "2024-09-29T09:32:48.959077",
     "status": "completed"
    },
    "tags": []
   },
   "outputs": [
    {
     "data": {
      "image/png": "[encoded data removed]",
      "text/plain": [
       "<Figure size 640x480 with 1 Axes>"
      ]
     },
     "metadata": {},
     "output_type": "display_data"
    }
   ],
   "source": [
    "fraud_counts=full_data['is_fraud'].value_counts()\n",
    "sns.barplot(x=fraud_counts.index, y=fraud_counts.values)\n",
    "plt.title('Distribution of Fraud')\n",
    "plt.xlabel('Fraud')\n",
    "plt.ylabel('Count')\n",
    "plt.show()"
   ]
  },
  {
   "cell_type": "code",
   "execution_count": 9,
   "id": "12802653",
   "metadata": {
    "execution": {
     "iopub.execute_input": "2024-09-29T09:32:49.273946Z",
     "iopub.status.busy": "2024-09-29T09:32:49.272921Z",
     "iopub.status.idle": "2024-09-29T09:32:56.039128Z",
     "shell.execute_reply": "2024-09-29T09:32:56.037778Z"
    },
    "id": "EFNEtDXHugcm",
    "outputId": "84873170-2e19-4029-ab4b-331594992bf8",
    "papermill": {
     "duration": 6.782662,
     "end_time": "2024-09-29T09:32:56.042169",
     "exception": false,
     "start_time": "2024-09-29T09:32:49.259507",
     "status": "completed"
    },
    "tags": []
   },
   "outputs": [
    {
     "data": {
      "text/plain": [
       "0"
      ]
     },
     "execution_count": 9,
     "metadata": {},
     "output_type": "execute_result"
    }
   ],
   "source": [
    "full_data.duplicated().sum()"
   ]
  },
  {
   "cell_type": "code",
   "execution_count": 10,
   "id": "8f5f3443",
   "metadata": {
    "execution": {
     "iopub.execute_input": "2024-09-29T09:32:56.068852Z",
     "iopub.status.busy": "2024-09-29T09:32:56.068409Z",
     "iopub.status.idle": "2024-09-29T09:32:56.082119Z",
     "shell.execute_reply": "2024-09-29T09:32:56.080336Z"
    },
    "id": "C7lgw4jAyRaY",
    "outputId": "0e82fdb9-a96f-4045-b338-6320f03f39cf",
    "papermill": {
     "duration": 0.030815,
     "end_time": "2024-09-29T09:32:56.085429",
     "exception": false,
     "start_time": "2024-09-29T09:32:56.054614",
     "status": "completed"
    },
    "tags": []
   },
   "outputs": [
    {
     "name": "stdout",
     "output_type": "stream",
     "text": [
      "<class 'pandas.core.frame.DataFrame'>\n",
      "Index: 1852394 entries, 0 to 555718\n",
      "Data columns (total 23 columns):\n",
      " #   Column                 Dtype  \n",
      "---  ------                 -----  \n",
      " 0   Unnamed: 0             int64  \n",
      " 1   trans_date_trans_time  object \n",
      " 2   cc_num                 int64  \n",
      " 3   merchant               object \n",
      " 4   category               object \n",
      " 5   amt                    float64\n",
      " 6   first                  object \n",
      " 7   last                   object \n",
      " 8   gender                 object \n",
      " 9   street                 object \n",
      " 10  city                   object \n",
      " 11  state                  object \n",
      " 12  zip                    int64  \n",
      " 13  lat                    float64\n",
      " 14  long                   float64\n",
      " 15  city_pop               int64  \n",
      " 16  job                    object \n",
      " 17  dob                    object \n",
      " 18  trans_num              object \n",
      " 19  unix_time              int64  \n",
      " 20  merch_lat              float64\n",
      " 21  merch_long             float64\n",
      " 22  is_fraud               int64  \n",
      "dtypes: float64(5), int64(6), object(12)\n",
      "memory usage: 339.2+ MB\n"
     ]
    }
   ],
   "source": [
    "full_data.info()"
   ]
  },
  {
   "cell_type": "markdown",
   "id": "53677a5c",
   "metadata": {
    "id": "E0XL8lQKe_KR",
    "papermill": {
     "duration": 0.011888,
     "end_time": "2024-09-29T09:32:56.109682",
     "exception": false,
     "start_time": "2024-09-29T09:32:56.097794",
     "status": "completed"
    },
    "tags": []
   },
   "source": [
    "# **Data Processing**"
   ]
  },
  {
   "cell_type": "code",
   "execution_count": 11,
   "id": "f6fa050f",
   "metadata": {
    "execution": {
     "iopub.execute_input": "2024-09-29T09:32:56.136817Z",
     "iopub.status.busy": "2024-09-29T09:32:56.136299Z",
     "iopub.status.idle": "2024-09-29T09:32:56.611825Z",
     "shell.execute_reply": "2024-09-29T09:32:56.610049Z"
    },
    "id": "7l2THDDNOAVq",
    "outputId": "25865ce2-fc47-4c43-b82e-36c52b425562",
    "papermill": {
     "duration": 0.492328,
     "end_time": "2024-09-29T09:32:56.614730",
     "exception": false,
     "start_time": "2024-09-29T09:32:56.122402",
     "status": "completed"
    },
    "tags": []
   },
   "outputs": [
    {
     "name": "stdout",
     "output_type": "stream",
     "text": [
      "9651\n",
      "1842743\n"
     ]
    }
   ],
   "source": [
    "fraud=full_data[full_data[\"is_fraud\"]==1]\n",
    "not_fraud=full_data[full_data[\"is_fraud\"]==0]\n",
    "print(fraud.shape[0])\n",
    "print(not_fraud.shape[0])"
   ]
  },
  {
   "cell_type": "code",
   "execution_count": 12,
   "id": "4a7caa96",
   "metadata": {
    "execution": {
     "iopub.execute_input": "2024-09-29T09:32:56.641678Z",
     "iopub.status.busy": "2024-09-29T09:32:56.640594Z",
     "iopub.status.idle": "2024-09-29T09:32:56.856389Z",
     "shell.execute_reply": "2024-09-29T09:32:56.855082Z"
    },
    "id": "W2V2b2ViOBLG",
    "papermill": {
     "duration": 0.232883,
     "end_time": "2024-09-29T09:32:56.859903",
     "exception": false,
     "start_time": "2024-09-29T09:32:56.627020",
     "status": "completed"
    },
    "tags": []
   },
   "outputs": [],
   "source": [
    "not_fraud=not_fraud.sample(fraud.shape[0])\n",
    "data=pd.concat([fraud,not_fraud])"
   ]
  },
  {
   "cell_type": "code",
   "execution_count": 13,
   "id": "4d784525",
   "metadata": {
    "execution": {
     "iopub.execute_input": "2024-09-29T09:32:56.886672Z",
     "iopub.status.busy": "2024-09-29T09:32:56.886245Z",
     "iopub.status.idle": "2024-09-29T09:32:57.140965Z",
     "shell.execute_reply": "2024-09-29T09:32:57.139514Z"
    },
    "id": "ZdafIxP2OMBr",
    "outputId": "25b57ee9-dc40-4448-b478-43876b001303",
    "papermill": {
     "duration": 0.271231,
     "end_time": "2024-09-29T09:32:57.143631",
     "exception": false,
     "start_time": "2024-09-29T09:32:56.872400",
     "status": "completed"
    },
    "tags": []
   },
   "outputs": [
    {
     "data": {
      "image/png": "[encoded data removed]",
      "text/plain": [
       "<Figure size 640x480 with 1 Axes>"
      ]
     },
     "metadata": {},
     "output_type": "display_data"
    }
   ],
   "source": [
    "fraud_counts=data['is_fraud'].value_counts()\n",
    "sns.barplot(x=fraud_counts.index,y=fraud_counts.values)\n",
    "plt.title('New Distribution of Fraud')\n",
    "plt.xlabel('Fraud')\n",
    "plt.ylabel('Count')\n",
    "plt.show()"
   ]
  },
  {
   "cell_type": "markdown",
   "id": "3b9e7e35",
   "metadata": {
    "id": "HUCeyXyUjhqR",
    "papermill": {
     "duration": 0.012465,
     "end_time": "2024-09-29T09:32:57.168542",
     "exception": false,
     "start_time": "2024-09-29T09:32:57.156077",
     "status": "completed"
    },
    "tags": []
   },
   "source": [
    "# **Feature Engineering**"
   ]
  },
  {
   "cell_type": "code",
   "execution_count": 14,
   "id": "dbf79e71",
   "metadata": {
    "execution": {
     "iopub.execute_input": "2024-09-29T09:32:57.196088Z",
     "iopub.status.busy": "2024-09-29T09:32:57.195518Z",
     "iopub.status.idle": "2024-09-29T09:32:57.212534Z",
     "shell.execute_reply": "2024-09-29T09:32:57.211149Z"
    },
    "id": "Buvztho36jSa",
    "papermill": {
     "duration": 0.034999,
     "end_time": "2024-09-29T09:32:57.215762",
     "exception": false,
     "start_time": "2024-09-29T09:32:57.180763",
     "status": "completed"
    },
    "tags": []
   },
   "outputs": [],
   "source": [
    "unused_cols=['Unnamed: 0','first','last','unix_time','street','gender','job','dob','city','state','trans_num','merchant']\n",
    "data.drop(columns=unused_cols,inplace=True)"
   ]
  },
  {
   "cell_type": "code",
   "execution_count": 15,
   "id": "76c7c755",
   "metadata": {
    "execution": {
     "iopub.execute_input": "2024-09-29T09:32:57.243484Z",
     "iopub.status.busy": "2024-09-29T09:32:57.242979Z",
     "iopub.status.idle": "2024-09-29T09:32:57.269120Z",
     "shell.execute_reply": "2024-09-29T09:32:57.267513Z"
    },
    "id": "fEae59UfVBuT",
    "outputId": "f69fddad-cf8a-4b2e-e32f-c2e07d6ad912",
    "papermill": {
     "duration": 0.043705,
     "end_time": "2024-09-29T09:32:57.272342",
     "exception": false,
     "start_time": "2024-09-29T09:32:57.228637",
     "status": "completed"
    },
    "tags": []
   },
   "outputs": [
    {
     "name": "stdout",
     "output_type": "stream",
     "text": [
      "<class 'pandas.core.frame.DataFrame'>\n",
      "Index: 19302 entries, 2449 to 513816\n",
      "Data columns (total 11 columns):\n",
      " #   Column                 Non-Null Count  Dtype  \n",
      "---  ------                 --------------  -----  \n",
      " 0   trans_date_trans_time  19302 non-null  object \n",
      " 1   cc_num                 19302 non-null  int64  \n",
      " 2   category               19302 non-null  object \n",
      " 3   amt                    19302 non-null  float64\n",
      " 4   zip                    19302 non-null  int64  \n",
      " 5   lat                    19302 non-null  float64\n",
      " 6   long                   19302 non-null  float64\n",
      " 7   city_pop               19302 non-null  int64  \n",
      " 8   merch_lat              19302 non-null  float64\n",
      " 9   merch_long             19302 non-null  float64\n",
      " 10  is_fraud               19302 non-null  int64  \n",
      "dtypes: float64(5), int64(4), object(2)\n",
      "memory usage: 1.8+ MB\n"
     ]
    }
   ],
   "source": [
    "data.info()"
   ]
  },
  {
   "cell_type": "code",
   "execution_count": 16,
   "id": "cbd566b1",
   "metadata": {
    "execution": {
     "iopub.execute_input": "2024-09-29T09:32:57.300711Z",
     "iopub.status.busy": "2024-09-29T09:32:57.300197Z",
     "iopub.status.idle": "2024-09-29T09:32:57.343018Z",
     "shell.execute_reply": "2024-09-29T09:32:57.341823Z"
    },
    "id": "33b6vcIOcRHy",
    "papermill": {
     "duration": 0.060807,
     "end_time": "2024-09-29T09:32:57.345921",
     "exception": false,
     "start_time": "2024-09-29T09:32:57.285114",
     "status": "completed"
    },
    "tags": []
   },
   "outputs": [],
   "source": [
    "data['trans_date_trans_time']=pd.to_datetime(data['trans_date_trans_time'])\n",
    "data['trans_day']=data['trans_date_trans_time'].dt.day\n",
    "data['trans_month']=data['trans_date_trans_time'].dt.month\n",
    "data['trans_year']=data['trans_date_trans_time'].dt.year\n",
    "data['trans_hour']=data['trans_date_trans_time'].dt.hour\n",
    "data['trans_minute']=data['trans_date_trans_time'].dt.minute\n",
    "data.drop(columns=['trans_date_trans_time'],inplace=True)"
   ]
  },
  {
   "cell_type": "markdown",
   "id": "9a800c56",
   "metadata": {
    "id": "bIrCfvO3fNDP",
    "papermill": {
     "duration": 0.012911,
     "end_time": "2024-09-29T09:32:57.371388",
     "exception": false,
     "start_time": "2024-09-29T09:32:57.358477",
     "status": "completed"
    },
    "tags": []
   },
   "source": [
    "# **Encode Variables**\n"
   ]
  },
  {
   "cell_type": "code",
   "execution_count": 17,
   "id": "35d26adf",
   "metadata": {
    "execution": {
     "iopub.execute_input": "2024-09-29T09:32:57.398530Z",
     "iopub.status.busy": "2024-09-29T09:32:57.398093Z",
     "iopub.status.idle": "2024-09-29T09:32:57.413671Z",
     "shell.execute_reply": "2024-09-29T09:32:57.412468Z"
    },
    "id": "hBcIXYab6jQp",
    "papermill": {
     "duration": 0.032673,
     "end_time": "2024-09-29T09:32:57.416709",
     "exception": false,
     "start_time": "2024-09-29T09:32:57.384036",
     "status": "completed"
    },
    "tags": []
   },
   "outputs": [],
   "source": [
    "encoder=LabelEncoder()\n",
    "data['category']=encoder.fit_transform(data['category'])\n",
    "data['cc_num']=encoder.fit_transform(data['cc_num'])"
   ]
  },
  {
   "cell_type": "code",
   "execution_count": 18,
   "id": "ab90d78d",
   "metadata": {
    "execution": {
     "iopub.execute_input": "2024-09-29T09:32:57.445639Z",
     "iopub.status.busy": "2024-09-29T09:32:57.444465Z",
     "iopub.status.idle": "2024-09-29T09:32:57.465800Z",
     "shell.execute_reply": "2024-09-29T09:32:57.464441Z"
    },
    "id": "FggJxv7AWy7n",
    "outputId": "8c937c03-da51-4dad-f503-25dfe2536356",
    "papermill": {
     "duration": 0.038421,
     "end_time": "2024-09-29T09:32:57.468651",
     "exception": false,
     "start_time": "2024-09-29T09:32:57.430230",
     "status": "completed"
    },
    "tags": []
   },
   "outputs": [
    {
     "data": {
      "text/html": [
       "<div>\n",
       "<style scoped>\n",
       "    .dataframe tbody tr th:only-of-type {\n",
       "        vertical-align: middle;\n",
       "    }\n",
       "\n",
       "    .dataframe tbody tr th {\n",
       "        vertical-align: top;\n",
       "    }\n",
       "\n",
       "    .dataframe thead th {\n",
       "        text-align: right;\n",
       "    }\n",
       "</style>\n",
       "<table border=\"1\" class=\"dataframe\">\n",
       "  <thead>\n",
       "    <tr style=\"text-align: right;\">\n",
       "      <th></th>\n",
       "      <th>cc_num</th>\n",
       "      <th>category</th>\n",
       "      <th>amt</th>\n",
       "      <th>zip</th>\n",
       "      <th>lat</th>\n",
       "      <th>long</th>\n",
       "      <th>city_pop</th>\n",
       "      <th>merch_lat</th>\n",
       "      <th>merch_long</th>\n",
       "      <th>is_fraud</th>\n",
       "      <th>trans_day</th>\n",
       "      <th>trans_month</th>\n",
       "      <th>trans_year</th>\n",
       "      <th>trans_hour</th>\n",
       "      <th>trans_minute</th>\n",
       "    </tr>\n",
       "  </thead>\n",
       "  <tbody>\n",
       "    <tr>\n",
       "      <th>2449</th>\n",
       "      <td>126</td>\n",
       "      <td>4</td>\n",
       "      <td>281.06</td>\n",
       "      <td>28611</td>\n",
       "      <td>35.9946</td>\n",
       "      <td>-81.7266</td>\n",
       "      <td>885</td>\n",
       "      <td>36.430124</td>\n",
       "      <td>-81.179483</td>\n",
       "      <td>1</td>\n",
       "      <td>2</td>\n",
       "      <td>1</td>\n",
       "      <td>2019</td>\n",
       "      <td>1</td>\n",
       "      <td>6</td>\n",
       "    </tr>\n",
       "    <tr>\n",
       "      <th>2472</th>\n",
       "      <td>314</td>\n",
       "      <td>2</td>\n",
       "      <td>11.52</td>\n",
       "      <td>78208</td>\n",
       "      <td>29.4400</td>\n",
       "      <td>-98.4590</td>\n",
       "      <td>1595797</td>\n",
       "      <td>29.819364</td>\n",
       "      <td>-99.142791</td>\n",
       "      <td>1</td>\n",
       "      <td>2</td>\n",
       "      <td>1</td>\n",
       "      <td>2019</td>\n",
       "      <td>1</td>\n",
       "      <td>47</td>\n",
       "    </tr>\n",
       "    <tr>\n",
       "      <th>2523</th>\n",
       "      <td>314</td>\n",
       "      <td>4</td>\n",
       "      <td>276.31</td>\n",
       "      <td>78208</td>\n",
       "      <td>29.4400</td>\n",
       "      <td>-98.4590</td>\n",
       "      <td>1595797</td>\n",
       "      <td>29.273085</td>\n",
       "      <td>-98.836360</td>\n",
       "      <td>1</td>\n",
       "      <td>2</td>\n",
       "      <td>1</td>\n",
       "      <td>2019</td>\n",
       "      <td>3</td>\n",
       "      <td>5</td>\n",
       "    </tr>\n",
       "    <tr>\n",
       "      <th>2546</th>\n",
       "      <td>126</td>\n",
       "      <td>2</td>\n",
       "      <td>7.03</td>\n",
       "      <td>28611</td>\n",
       "      <td>35.9946</td>\n",
       "      <td>-81.7266</td>\n",
       "      <td>885</td>\n",
       "      <td>35.909292</td>\n",
       "      <td>-82.091010</td>\n",
       "      <td>1</td>\n",
       "      <td>2</td>\n",
       "      <td>1</td>\n",
       "      <td>2019</td>\n",
       "      <td>3</td>\n",
       "      <td>38</td>\n",
       "    </tr>\n",
       "    <tr>\n",
       "      <th>2553</th>\n",
       "      <td>314</td>\n",
       "      <td>4</td>\n",
       "      <td>275.73</td>\n",
       "      <td>78208</td>\n",
       "      <td>29.4400</td>\n",
       "      <td>-98.4590</td>\n",
       "      <td>1595797</td>\n",
       "      <td>29.786426</td>\n",
       "      <td>-98.683410</td>\n",
       "      <td>1</td>\n",
       "      <td>2</td>\n",
       "      <td>1</td>\n",
       "      <td>2019</td>\n",
       "      <td>3</td>\n",
       "      <td>55</td>\n",
       "    </tr>\n",
       "  </tbody>\n",
       "</table>\n",
       "</div>"
      ],
      "text/plain": [
       "      cc_num  category     amt    zip      lat     long  city_pop  merch_lat  \\\n",
       "2449     126         4  281.06  28611  35.9946 -81.7266       885  36.430124   \n",
       "2472     314         2   11.52  78208  29.4400 -98.4590   1595797  29.819364   \n",
       "2523     314         4  276.31  78208  29.4400 -98.4590   1595797  29.273085   \n",
       "2546     126         2    7.03  28611  35.9946 -81.7266       885  35.909292   \n",
       "2553     314         4  275.73  78208  29.4400 -98.4590   1595797  29.786426   \n",
       "\n",
       "      merch_long  is_fraud  trans_day  trans_month  trans_year  trans_hour  \\\n",
       "2449  -81.179483         1          2            1        2019           1   \n",
       "2472  -99.142791         1          2            1        2019           1   \n",
       "2523  -98.836360         1          2            1        2019           3   \n",
       "2546  -82.091010         1          2            1        2019           3   \n",
       "2553  -98.683410         1          2            1        2019           3   \n",
       "\n",
       "      trans_minute  \n",
       "2449             6  \n",
       "2472            47  \n",
       "2523             5  \n",
       "2546            38  \n",
       "2553            55  "
      ]
     },
     "execution_count": 18,
     "metadata": {},
     "output_type": "execute_result"
    }
   ],
   "source": [
    "data.head()"
   ]
  },
  {
   "cell_type": "markdown",
   "id": "02eb4549",
   "metadata": {
    "id": "Ng257HNXfUeW",
    "papermill": {
     "duration": 0.013287,
     "end_time": "2024-09-29T09:32:57.494931",
     "exception": false,
     "start_time": "2024-09-29T09:32:57.481644",
     "status": "completed"
    },
    "tags": []
   },
   "source": [
    "# **Feature** **Scaling**"
   ]
  },
  {
   "cell_type": "code",
   "execution_count": 19,
   "id": "f473a571",
   "metadata": {
    "execution": {
     "iopub.execute_input": "2024-09-29T09:32:57.523460Z",
     "iopub.status.busy": "2024-09-29T09:32:57.523030Z",
     "iopub.status.idle": "2024-09-29T09:32:57.546752Z",
     "shell.execute_reply": "2024-09-29T09:32:57.545334Z"
    },
    "id": "su05sVIP60bY",
    "papermill": {
     "duration": 0.041344,
     "end_time": "2024-09-29T09:32:57.549796",
     "exception": false,
     "start_time": "2024-09-29T09:32:57.508452",
     "status": "completed"
    },
    "tags": []
   },
   "outputs": [],
   "source": [
    "scaler=StandardScaler()\n",
    "data['amt']=scaler.fit_transform(data[['amt']])\n",
    "data['zip']=scaler.fit_transform(data[['zip']])\n",
    "data['city_pop']=scaler.fit_transform(data[['city_pop']])\n",
    "data['cc_num']=encoder.fit_transform(data['cc_num'])"
   ]
  },
  {
   "cell_type": "code",
   "execution_count": 20,
   "id": "280a99d9",
   "metadata": {
    "execution": {
     "iopub.execute_input": "2024-09-29T09:32:57.578035Z",
     "iopub.status.busy": "2024-09-29T09:32:57.577553Z",
     "iopub.status.idle": "2024-09-29T09:32:57.585943Z",
     "shell.execute_reply": "2024-09-29T09:32:57.584718Z"
    },
    "id": "yDxSCLAvG7sR",
    "papermill": {
     "duration": 0.025463,
     "end_time": "2024-09-29T09:32:57.588785",
     "exception": false,
     "start_time": "2024-09-29T09:32:57.563322",
     "status": "completed"
    },
    "tags": []
   },
   "outputs": [],
   "source": [
    "X=data.drop('is_fraud',axis=1)\n",
    "y=data['is_fraud']"
   ]
  },
  {
   "cell_type": "markdown",
   "id": "d2e69b11",
   "metadata": {
    "id": "usq5O6sEgDgU",
    "papermill": {
     "duration": 0.012719,
     "end_time": "2024-09-29T09:32:57.614623",
     "exception": false,
     "start_time": "2024-09-29T09:32:57.601904",
     "status": "completed"
    },
    "tags": []
   },
   "source": [
    "# **Split the** **Data**\n"
   ]
  },
  {
   "cell_type": "code",
   "execution_count": 21,
   "id": "843fda0d",
   "metadata": {
    "execution": {
     "iopub.execute_input": "2024-09-29T09:32:57.643677Z",
     "iopub.status.busy": "2024-09-29T09:32:57.642654Z",
     "iopub.status.idle": "2024-09-29T09:32:57.656258Z",
     "shell.execute_reply": "2024-09-29T09:32:57.654989Z"
    },
    "id": "QHbL4Bo97E9T",
    "papermill": {
     "duration": 0.031483,
     "end_time": "2024-09-29T09:32:57.659314",
     "exception": false,
     "start_time": "2024-09-29T09:32:57.627831",
     "status": "completed"
    },
    "tags": []
   },
   "outputs": [],
   "source": [
    "X_train, X_test, y_train, y_test = train_test_split(X, y, test_size=0.2,random_state=0)"
   ]
  },
  {
   "cell_type": "markdown",
   "id": "f46f3d77",
   "metadata": {
    "id": "FKMuAdzrgNVL",
    "papermill": {
     "duration": 0.012864,
     "end_time": "2024-09-29T09:32:57.685649",
     "exception": false,
     "start_time": "2024-09-29T09:32:57.672785",
     "status": "completed"
    },
    "tags": []
   },
   "source": [
    "# **Build and Train the Model**"
   ]
  },
  {
   "cell_type": "code",
   "execution_count": 22,
   "id": "7537ef86",
   "metadata": {
    "execution": {
     "iopub.execute_input": "2024-09-29T09:32:57.713922Z",
     "iopub.status.busy": "2024-09-29T09:32:57.713471Z",
     "iopub.status.idle": "2024-09-29T09:33:01.205258Z",
     "shell.execute_reply": "2024-09-29T09:33:01.203717Z"
    },
    "id": "82pkBvs6ygDS",
    "papermill": {
     "duration": 3.509974,
     "end_time": "2024-09-29T09:33:01.208703",
     "exception": false,
     "start_time": "2024-09-29T09:32:57.698729",
     "status": "completed"
    },
    "tags": []
   },
   "outputs": [],
   "source": [
    "RFC=RandomForestClassifier(random_state=0)\n",
    "RFC.fit(X_train,y_train)\n",
    "y_pred=RFC.predict(X_test)"
   ]
  },
  {
   "cell_type": "markdown",
   "id": "aefab97a",
   "metadata": {
    "id": "-YfpZ5I6gVnh",
    "papermill": {
     "duration": 0.013144,
     "end_time": "2024-09-29T09:33:01.235453",
     "exception": false,
     "start_time": "2024-09-29T09:33:01.222309",
     "status": "completed"
    },
    "tags": []
   },
   "source": [
    "# **Evaluate** **the** **Model**\n"
   ]
  },
  {
   "cell_type": "code",
   "execution_count": 23,
   "id": "0562db5d",
   "metadata": {
    "execution": {
     "iopub.execute_input": "2024-09-29T09:33:01.264696Z",
     "iopub.status.busy": "2024-09-29T09:33:01.264282Z",
     "iopub.status.idle": "2024-09-29T09:33:01.292577Z",
     "shell.execute_reply": "2024-09-29T09:33:01.290661Z"
    },
    "id": "tOm_aeAG2k_5",
    "outputId": "68826d02-ac77-409d-cb72-e4be94b3fe2b",
    "papermill": {
     "duration": 0.046864,
     "end_time": "2024-09-29T09:33:01.295659",
     "exception": false,
     "start_time": "2024-09-29T09:33:01.248795",
     "status": "completed"
    },
    "tags": []
   },
   "outputs": [
    {
     "name": "stdout",
     "output_type": "stream",
     "text": [
      "Accuracy: 0.9671069671069671\n",
      "Precision: 0.9699367088607594\n",
      "Recall: 0.9633315872184389\n",
      "F1 score: 0.9666228646517738\n",
      "Confusion matrix: [[1895   57]\n",
      " [  70 1839]]\n"
     ]
    }
   ],
   "source": [
    "print('Accuracy:',accuracy_score(y_test, y_pred))\n",
    "print('Precision:',precision_score(y_test, y_pred))\n",
    "print('Recall:', recall_score(y_test, y_pred))\n",
    "print('F1 score:',f1_score(y_test, y_pred))\n",
    "print('Confusion matrix:',confusion_matrix(y_test, y_pred))"
   ]
  },
  {
   "cell_type": "code",
   "execution_count": 24,
   "id": "c2a38530",
   "metadata": {
    "execution": {
     "iopub.execute_input": "2024-09-29T09:33:01.325184Z",
     "iopub.status.busy": "2024-09-29T09:33:01.324690Z",
     "iopub.status.idle": "2024-09-29T09:33:01.671378Z",
     "shell.execute_reply": "2024-09-29T09:33:01.669951Z"
    },
    "id": "ctURD1mbteTh",
    "outputId": "bc27ecfd-63f8-479f-a16c-180d4a52af23",
    "papermill": {
     "duration": 0.365321,
     "end_time": "2024-09-29T09:33:01.674613",
     "exception": false,
     "start_time": "2024-09-29T09:33:01.309292",
     "status": "completed"
    },
    "tags": []
   },
   "outputs": [
    {
     "data": {
      "text/plain": [
       "Text(0.5, 1.0, 'Confusion Matrix')"
      ]
     },
     "execution_count": 24,
     "metadata": {},
     "output_type": "execute_result"
    },
    {
     "data": {
      "image/png": "[encoded data removed]",
      "text/plain": [
       "<Figure size 1000x1000 with 2 Axes>"
      ]
     },
     "metadata": {},
     "output_type": "display_data"
    }
   ],
   "source": [
    "plt.figure(figsize=(10,10))\n",
    "sns.heatmap(confusion_matrix(y_test, y_pred), annot=True, fmt='d')\n",
    "plt.xlabel('Predicted')\n",
    "plt.ylabel('Actual')\n",
    "plt.title('Confusion Matrix')"
   ]
  }
 ],
 "metadata": {
  "colab": {
   "provenance": []
  },
  "kaggle": {
   "accelerator": "none",
   "dataSources": [
    {
     "datasetId": 817870,
     "sourceId": 1399887,
     "sourceType": "datasetVersion"
    }
   ],
   "dockerImageVersionId": 30761,
   "isGpuEnabled": false,
   "isInternetEnabled": true,
   "language": "python",
   "sourceType": "notebook"
  },
  "kernelspec": {
   "display_name": "Python 3",
   "language": "python",
   "name": "python3"
  },
  "language_info": {
   "codemirror_mode": {
    "name": "ipython",
    "version": 3
   },
   "file_extension": ".py",
   "mimetype": "text/x-python",
   "name": "python",
   "nbconvert_exporter": "python",
   "pygments_lexer": "ipython3",
   "version": "3.10.14"
  },
  "papermill": {
   "default_parameters": {},
   "duration": 47.851611,
   "end_time": "2024-09-29T09:33:03.217494",
   "environment_variables": {},
   "exception": null,
   "input_path": "__notebook__.ipynb",
   "output_path": "__notebook__.ipynb",
   "parameters": {},
   "start_time": "2024-09-29T09:32:15.365883",
   "version": "2.6.0"
  }
 },
 "nbformat": 4,
 "nbformat_minor": 5
}
